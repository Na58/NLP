{
 "cells": [
  {
   "cell_type": "markdown",
   "metadata": {},
   "source": [
    "# Homework 1: Preprocessing and Text Classification"
   ]
  },
  {
   "cell_type": "markdown",
   "metadata": {
    "collapsed": true
   },
   "source": [
    "Student Name: Na Chang\n",
    "\n",
    "Student ID: 858604\n",
    "\n",
    "Python version used: 2.7"
   ]
  },
  {
   "cell_type": "markdown",
   "metadata": {},
   "source": [
    "## General info"
   ]
  },
  {
   "cell_type": "markdown",
   "metadata": {},
   "source": [
    "<b>Due date</b>: 11pm, Sunday March 18th\n",
    "\n",
    "<b>Submission method</b>: see LMS\n",
    "\n",
    "<b>Submission materials</b>: completed copy of this iPython notebook\n",
    "\n",
    "<b>Late submissions</b>: -20% per day\n",
    "\n",
    "<b>Marks</b>: 5% of mark for class\n",
    "\n",
    "<b>Overview</b>: In this homework, you'll be using a corpus of tweets to do tokenisation of hashtags and build polarity classifers using bag of word (BOW) features.\n",
    "\n",
    "<b>Materials</b>: See the main class LMS page for information on the basic setup required for this class, including an iPython notebook viewer and the python packages NLTK, Numpy, Scipy, Matplotlib, Scikit-Learn, and Gensim. In particular, if you are not using a lab computer which already has it installed, we recommend installing all the data for NLTK, since you will need various parts of it to complete this assignment. You can also use any Python built-in packages, but do not use any other 3rd party packages (the packages listed above are all fine to use); if your iPython notebook doesn't run on the marker's machine, you will lose marks.  \n",
    "\n",
    "<b>Evaluation</b>: Your iPython notebook should run end-to-end without any errors in a few minutes, and you must follow all instructions provided below, including specific implementation requirements and instructions for what needs to be printed (please avoid printing output we don't ask for). The amount each section is worth is given in parenthesis after the instructions. You will be marked not only on the correctness of your methods, but also the quality and efficency of your code: in particular, you should be careful to use Python built-in functions and operators when appropriate and pick descriptive variable names that adhere to <a href=\"https://www.python.org/dev/peps/pep-0008/\">Python style requirements</a>. If you think it might be unclear what you are doing, you should comment your code to help the marker make sense of it.\n",
    "\n",
    "<b>Extra credit</b>: Each homework has a task which is optional with respect to getting full marks on the assignment, but that can be used to offset any points lost on this or any other homework assignment (but not the final project or the exam). We recommend you skip over this step on your first pass, and come back if you have time: the amount of effort required to receive full marks (1 point) on an extra credit question will be substantially more than earning the same amount of credit on other parts of the homework.\n",
    "\n",
    "<b>Updates</b>: Any major changes to the assignment will be announced via LMS. Minor changes and clarifications will be announced in the forum on LMS, we recommend you check the forum regularly.\n",
    "\n",
    "<b>Academic Misconduct</b>: For most people, collaboration will form a natural part of the undertaking of this homework, and we encourge you to discuss it in general terms with other students. However, this ultimately is still an individual task, and so reuse of code or other instances of clear influence will be considered cheating. We will be checking submissions for originality and will invoke the University’s <a href=\"http://academichonesty.unimelb.edu.au/policy.html\">Academic Misconduct policy</a> where inappropriate levels of collusion or plagiarism are deemed to have taken place.\n"
   ]
  },
  {
   "cell_type": "markdown",
   "metadata": {},
   "source": [
    "## Preprocessing"
   ]
  },
  {
   "cell_type": "markdown",
   "metadata": {
    "collapsed": true
   },
   "source": [
    "<b>Instructions</b>: For this homework we will be using the tweets in the <i>twitter_samples</i> corpus included with NLTK. You should start by accessing these tweets. Use the <i>strings</i> method included in the NLTK corpus reader for <i>twitter_samples</i> to access the tweets (as raw strings). Iterate over the full corpus, and print out the average length, in characters, of the tweets in the corpus. (0.5)\n"
   ]
  },
  {
   "cell_type": "code",
   "execution_count": 1,
   "metadata": {},
   "outputs": [
    {
     "name": "stdout",
     "output_type": "stream",
     "text": [
      "[nltk_data] Downloading package twitter_samples to\n",
      "[nltk_data]     /Users/Rena/nltk_data...\n",
      "[nltk_data]   Package twitter_samples is already up-to-date!\n",
      "Average Length in Char:  103\n"
     ]
    }
   ],
   "source": [
    "import nltk\n",
    "\n",
    "nltk.download(\"twitter_samples\")\n",
    "\n",
    "from nltk.corpus import twitter_samples\n",
    "\n",
    "tweets = twitter_samples.strings()\n",
    "avgLength = int(sum(map(len, tweets))/float(len(tweets)))\n",
    "print \"Average Length in Char: \", int(avgLength)"
   ]
  },
  {
   "cell_type": "markdown",
   "metadata": {},
   "source": [
    "<b>Instructions</b>: Hashtags (i.e. topic tags which start with #) pose an interesting tokenisation problem because they often include multiple words written without spaces or capitalization. You should use a regular expression to extract all hashtags of length 8 or longer which consist only of lower case letters (other than the # at the beginning, of course, though this should be stripped off as part of the extraction process). Do <b>not</b> tokenise the entire tweet as part of this process. The hashtag might occur at the beginning or the end of the tweet; you should double-check that you aren't missing any. After you have collected them into a list, print out number of hashtags you have collected: for full credit, you must get the exact number that we expect.  (1.0)"
   ]
  },
  {
   "cell_type": "code",
   "execution_count": 2,
   "metadata": {},
   "outputs": [
    {
     "name": "stdout",
     "output_type": "stream",
     "text": [
      "Total number of Hashtags:  1411\n"
     ]
    }
   ],
   "source": [
    "import re\n",
    "\n",
    "hashtags = []\n",
    "\n",
    "for tweet in tweets:\n",
    "\tsingle_tags = re.findall(\n",
    "        r'(?<=\\s#)[a-z]{8,}\\s|(?<=^#)[a-z]{8,}|(?<=\\s#)[a-z]{8,}$', tweet)\n",
    "\tif single_tags:\n",
    "\t\tfor tag in single_tags:\n",
    "\t\t\thashtags.append(tag.strip())\n",
    "print \"Total number of Hashtags: \",len(hashtags)"
   ]
  },
  {
   "cell_type": "markdown",
   "metadata": {},
   "source": [
    "<b>Instructions</b>: Now, tokenise the hashtags you've collected. To do this, you should implement a reversed version of the MaxMatch algorithm discussed in class (and in the reading), where matching begins at the end of the hashtag and progresses backwards. NLTK has a list of words that you can use for matching, see starter code below. Be careful about efficiency with respect to doing word lookups. One extra challenge you have to deal with is that the provided list of words includes only lemmas: your MaxMatch algorithm should match inflected forms by converting them into lemmas using the NLTK lemmatiser before matching. Note that the list of words is incomplete, and, if you are unable to make any longer match, your code should default to matching a single letter. Create a new list of tokenised hashtags (this should be a list of lists of strings) and use slicing to print out the last 20 hashtags in the list. (1.0)"
   ]
  },
  {
   "cell_type": "code",
   "execution_count": 3,
   "metadata": {},
   "outputs": [
    {
     "name": "stdout",
     "output_type": "stream",
     "text": [
      "[nltk_data] Downloading package words to /Users/Rena/nltk_data...\n",
      "[nltk_data]   Package words is already up-to-date!\n",
      "[nltk_data] Downloading package wordnet to /Users/Rena/nltk_data...\n",
      "[nltk_data]   Package wordnet is already up-to-date!\n",
      "Last 20 Tokenised \n",
      "[[u'leaders', u'debate'], [u'wow', u'campaign'], [u'social', u'security'], [u'tory', u'lies'], [u'election'], [u'biased', u'b', u'b', u'c'], [u'labour', u'doorstep'], [u'biased', u'b', u'b', u'c'], [u'li', u'blab', u'con'], [u'b', u'b', u'c', u'debate'], [u'mi', u'li', u'fandom'], [u'u', u'k', u'parliament'], [u'bedroom', u'tax'], [u'disability'], [u'canna', u'bis'], [u'vote', u'green'], [u'l', u'lan', u'el', u'li', u'h', u'u', u'stings'], [u'bedroom', u'tax'], [u'disability'], [u'bankrupt']]\n"
     ]
    }
   ],
   "source": [
    "nltk.download('words')\n",
    "words = set(nltk.corpus.words.words())\n",
    "\n",
    "nltk.download('wordnet')\n",
    "lemmatizer = nltk.stem.wordnet.WordNetLemmatizer()\n",
    "\n",
    "\n",
    "def lemmatize(word):\n",
    "\t###return the lemma form of input token###\n",
    "\t###first lemmatize as verb###\n",
    "\t###if does not change, lemmatize as noun#\n",
    "\tlemma = lemmatizer.lemmatize(word,'v')\n",
    "\tif lemma == word:\n",
    "\t\tlemma = lemmatizer.lemmatize(word,'n')\n",
    "\treturn lemma\n",
    "\n",
    "\n",
    "def maxMatchReverse(tag, dictionary, splitTokens):\n",
    "\t###input a string, a linguistic dictionary, and a list for splitted tokens###\n",
    "\t###while loop try to match the tail of string###\n",
    "\t###recursion takes the remaining string from the head###\n",
    "\tif not tag:\n",
    "\t\treturn splitTokens\n",
    "\tlength = len(tag)\n",
    "\tstartPos = 0\n",
    "\twhile startPos != length - 1:\n",
    "\t\tlastPart = tag[startPos:]\n",
    "\t\tremain = tag[:startPos]\n",
    "\t\tif lastPart in dictionary:\n",
    "\t\t\tsplitTokens = [lastPart] + splitTokens\n",
    "\t\t\treturn maxMatchReverse(remain, dictionary, splitTokens)\n",
    "\t\telif lemmatize(lastPart) in dictionary:\n",
    "\t\t\tsplitTokens = [lastPart] + splitTokens\n",
    "\t\t\treturn maxMatchReverse(remain, dictionary, splitTokens)\n",
    "\t\tstartPos += 1\n",
    "\tsplitTokens = [tag[startPos:]] + splitTokens\n",
    "\treturn maxMatchReverse(tag[:startPos], dictionary, splitTokens)\n",
    "\n",
    "\n",
    "def maxMatch(tag, dictionary, splitTokens):\n",
    "    ###the reversed version of function above\n",
    "\tif not tag:\n",
    "\t\treturn splitTokens\n",
    "\tlength = len(tag)\n",
    "\twhile length != 1:\n",
    "\t\tfirstPart = tag[:length]\n",
    "\t\tremain = tag[length:]\n",
    "\t\tif firstPart in dictionary:\n",
    "\t\t\tsplitTokens.append(firstPart)\n",
    "\t\t\treturn maxMatch(remain, dictionary, splitTokens)\n",
    "\t\telif lemmatize(firstPart) in dictionary:\n",
    "\t\t\tsplitTokens.append(firstPart)\n",
    "\t\t\treturn maxMatch(remain, dictionary, splitTokens)\n",
    "\t\tlength -= 1\n",
    "\tsplitTokens.append(tag[:length])\n",
    "\treturn maxMatch(tag[length:], dictionary, splitTokens)\n",
    "\n",
    "tokenisedTagsRev = []\n",
    "tokenisedTagsSta = []\n",
    "for tag in hashtags:\n",
    "\ttokenisedTagsRev.append(maxMatchReverse(tag, words, []))\n",
    "\ttokenisedTagsSta.append(maxMatch(tag, words, []))\n",
    "print \"Last 20 Tokenised \\n\",tokenisedTagsRev[(len(tokenisedTagsRev)-20):]"
   ]
  },
  {
   "cell_type": "markdown",
   "metadata": {},
   "source": [
    "### Extra Credit (Optional)\n",
    "<b>Instructions</b>: Implement the forward version of the MaxMatch algorithm as well, and print out all the hashtags which give different results for the two versions of MaxMatch. Your main task is to come up with a good way to select which of the two segmentations is better for any given case, and demonstrate that it works significantly better than using a single version of the algorithm for all hashtags. (1.0)"
   ]
  },
  {
   "cell_type": "code",
   "execution_count": 4,
   "metadata": {},
   "outputs": [
    {
     "name": "stdout",
     "output_type": "stream",
     "text": [
      "screened Tag \n",
      "[[u'no', u'mo', u'relies'], [u'v', u'o', u't', u'eu', u'kip'], [u'rud', u'ram', u'ade', u'v', u'i'], [u'the', u'reis', u'no', u'escape'], [u'super', u'smash'], [u'messenger', u'for', u'aday'], [u'ask', u'fa', u'rage'], [u'doc', u'open', u'hag', u'en'], [u'al', u'exs', u'almond'], [u's', u'tal', u'ber', u't'], [u'manche', u'st', u'er'], [u'voting', u'system', u'turnoff'], [u'de', u'f', u'f', u'o', u'not', u'p', u'c'], [u'star', u'tups'], [u'pro', u'sec', u'c', u'o'], [u'p', u'e', u'na', u'c', u'ova'], [u'st', u'ur', u'wars'], [u'g', u'i', u'ach', u'ie', u'tit', u'ti', u'wedding'], [u'f', u'rid', u'ay', u'feeling'], [u'hyp', u'no', u'toad'], [u'z', u'or', u'r', u'ore', u'tur', u'ms'], [u'cloud', u'coo', u'ko', u'o'], [u'mi', u'li', u'brand'], [u'li', u'v', u'eon', u'st', u'rea', u'mate'], [u'liar', u'liar', u'pant', u'son', u'fire'], [u'use', u'your', u'sense'], [u'takes', u'one', u'to', u'k', u'no', u'wone'], [u'add', u'me', u'ons', u'nap', u'chat'], [u'c', u'h', u'ama', u'lie', u'res'], [u'be', u'stof', u'the', u'day'], [u'k', u'i', u'k', u'k', u'om', u'ansa', u'bor'], [u'game', u'design'], [u'binding', u'of', u'is', u'sac'], [u'hot', u'n', u'sexy'], [u'mano', u'nth', u'el', u'eft'], [u'be', u'me', u'code'], [u'v', u'e', u'ne', u'z', u'u', u'e', u'la'], [u'feel', u'good', u'f', u'rid', u'ay'], [u'l', u'lan', u'el', u'li', u'h', u'u', u'stings'], [u'self', u'shot'], [u'rude', u'man', u'slap', u'down'], [u'ni', u'k', u'e', u'in', u'done', u'si', u'a'], [u'y', u'ay', u'they', u'look', u'great'], [u'grant', u'shap', u'ps'], [u'your', u'ewe', u'l', u'come'], [u'unite', u'right'], [u'f', u'r', u'en', u'c', u'h', u'gate'], [u'p', u'roud', u'to', u'b', u'eme'], [u'e', u'd', u'mil', u'li', u'band'], [u'el', u'find', u'elm', u'undo'], [u'n', u'om', u'n', u'om', u'n', u'om'], [u'lev', u'ens', u'on'], [u'sunn', u'yday'], [u'e', u'd', u'mi', u'li', u'band'], [u'p', u'hand', u'roid'], [u'pa', u'e', u'dob', u'rita', u'in'], [u'qua', u'c', u'ket', u'y', u'quack'], [u'or', u'ca', u'love'], [u'ask', u'ni', u'gel'], [u'ni', u'gel', u'fa', u'rage'], [u'm', u'pon', u'at', u'rain'], [u'you', u'reap', u'what', u'you', u'sow'], [u'ask', u'ni', u'gel', u'far', u'ge'], [u's', u'to', u'pu', u'kip'], [u'oh', u'brother', u'where', u'art', u'thou'], [u'to', u'rie', u'manifesto'], [u'ins', u'ta', u'gram'], [u'just', u'got', u'ka', u'ne', u'k', u'i', u'fie', u'd'], [u'blue', u'tinted', u'specs'], [u'n', u'otic', u'i', u'as'], [u'nos', u'hit', u'sherlock'], [u'add', u'me', u'on', u'b', u'b', u'm'], [u'ca', u'mero', u'net', u'tes'], [u'mil', u'li', u'band'], [u'or', u'g', u'anise', u'd'], [u'video', u'g', u'rap', u'her'], [u'm', u'elb', u'our', u'ne', u'bur', u'gers'], [u's', u'inn', u'fe', u'in'], [u'la', u'nar', u'khu', u'stings'], [u'owned', u'byth', u'en', u'ort', u'herne', u'rs'], [u'trace', u'request'], [u'sin', u'ga', u'pore'], [u'mil', u'li', u'brand'], [u'great', u'storm'], [u'loves', u'um', u'me', u'r', u'time'], [u'bairn', u'snot', u'bombs'], [u'or', u'g', u'anise', u'd', u'crime'], [u'blind', u'side'], [u'd', u'ea', u'thof', u'labour'], [u'scot', u'ti', u'sh', u'labour'], [u'blo', u'g', u'gers', u'wanted'], [u'da', u'v', u'id', u'nag', u'hi'], [u't', u'el', u'lan', u'old', u'joke', u'day'], [u'b', u'b', u'ce', u'lection'], [u'taking', u'jobs', u'off', u'b', u'r', u'i', u'ti', u'sh', u'people'], [u'lo', u'n', u'dout', u'rad', u'ing'], [u'rule', u'b', u'r', u'i', u'tan', u'ni', u'a'], [u'my', u'brain', u'needs', u'tosh', u'ut', u'off'], [u'ask', u'for', u'money'], [u'jo', u'gon', u'j', u'i', u'm'], [u'hot', u'f', u'm', u'no', u'ai', u'di', u'l', u'for', u'ar', u'i', u'ana'], [u'bowwow', u'chi', u'ca', u'wow', u'wow'], [u'give', u'cod', u'pie', u'c', u'ea', u'chance'], [u'jo', u'urn', u'ore', u'quest'], [u'wup', u'pert', u'al'], [u'election', u'de', u'bat'], [u'ni', u'te', u'flirt'], [u're', u'alo', u'shi'], [u'web', u'cam', u'sex'], [u'h', u'or', u'rib', u'leman'], [u'my', u'pap', u'amy', u'pride'], [u'justice', u'for', u'abused', u'children'], [u'n', u'erd', u'lover'], [u'we', u'are', u'all', u'doomed'], [u'i', u'min', u'toher'], [u'we', u'wan', u'tice', u'cream'], [u'i', u'gers', u'of', u'the', u'day'], [u'f', u'o', u'ie', u'g', u'ras'], [u'mi', u'li', u'stumble'], [u'mar', u'ga', u'ret', u'hod', u'ge'], [u'word', u'of', u'the', u'week'], [u'scot', u'lan', u'dis', u'massive'], [u'cycle', u'revolution'], [u'vier', u'nes', u'de', u'role', u'na', u'hot'], [u'welcome', u'toes', u'sex'], [u'messe', u'swith', u'my', u'head'], [u'in', u'die', u'dev'], [u'han', u'ni', u'bal'], [u'bra', u'si', u'lei', u'ra', u'o'], [u'stum', u'b', u'legate'], [u'sex', u'ta', u'ate', u'q', u'u', u'em', u'fi', u'm', u'seg', u'u', u'es', u'd', u'v', u'c', u'om', u'v', u'alen', u'ti', u'no'], [u'f', u'rid', u'ay', u'fun'], [u'working', u'c', u'las', u'story'], [u'general', u'election'], [u'e', u'jay', u'st', u'er'], [u'feels', u'li', u'k', u'ean', u'idiot'], [u'the', u'world', u'would', u'change'], [u'fa', u'rage', u'i', u'cal'], [u'f', u'ah', u'r', u'in', u'ah', u'mad'], [u'ho', u'v', u'eh', u'u', u'stings'], [u'al', u'li', u'nit', u'together'], [u'hot', u'music', u'de', u'lo', u'cos'], [u'n', u'om', u'n', u'ey', u'left'], [u'mar', u'i', u'ti', u'm', u'enation'], [u'frisky', u'fi', u'day'], [u'la', u'tinhouse'], [u'death', u'by', u'bacon', u'smell'], [u'the', u'struggle', u'is', u'real'], [u'to', u'wa', u'kana'], [u'summer', u'is', u'missing'], [u'ask', u'ni', u'cola', u'sturgeon'], [u'vs', u'cog', u'o', u'od'], [u'matter', u'of', u'the', u'heart'], [u'like', u'youd', u'on', u'te', u'v', u'en', u'want', u'it'], [u'd', u'avid', u'cam', u'er', u'on', u'tweet'], [u's', u'c', u'if', u'if', u'an'], [u'horse', u'racing', u'tips'], [u're', u'tweet', u'and', u'follow', u'me'], [u'tea', u'party'], [u'social', u'security'], [u'nick', u'robin', u'son'], [u'lo', u'u', u'i', u'si', u'ana'], [u'might', u'of', u'gotten', u'cham', u'pan', u'ge'], [u'hard', u'es', u'tch', u'all', u'en', u'ge'], [u'blo', u'g', u'gers', u'required'], [u'mi', u'li', u'brand', u'cuts'], [u'i', u'need', u'feminism', u'because'], [u'frisky', u'f', u'rid', u'ay'], [u'mi', u'li', u'madness'], [u'is', u'it', u'right'], [u'poor', u'show'], [u'it', u'sa', u'marvel', u'thing'], [u'i', u'm', u'mig', u'ratio', u'nu', u'k'], [u'too', u'close', u'to', u'call'], [u'free', u'b', u'ie', u'f', u'rid', u'ay'], [u'keep', u'it', u'local'], [u'st', u'afford'], [u'hug', u'ahu', u'sky'], [u'fail', u'sat', u'life'], [u'she', u'skin', u'da', u'hot'], [u'phone', u'sex'], [u'j', u'i', u'ha', u'di', u'brides'], [u'a', u'us', u'fa', u'ilia'], [u'ask', u'ni', u'gel', u'fa', u'rage'], [u'ins', u'ta', u'good'], [u'g', u'otto', u'love', u'banks'], [u'top', u'travel', u'c', u'en', u'tar'], [u'votes', u'n', u'p', u'get', u'sexy'], [u'no', u'idea', u'wha', u'ti', u'm', u'doing'], [u'extreme', u'sports'], [u'sherlock', u'holm', u'es', u'incarnate'], [u'k', u'i', u'k', u'men', u'ow'], [u'p', u'blo', u'g', u'gers'], [u'at', u'ha', u'bas', u'ca'], [u'get', u'to', u'the', u'point'], [u'l', u'blo', u'g', u'gers'], [u'sexy', u'sa', u'sun', u'day'], [u'ex', u'p', u'loreal', u'ber', u'ta'], [u'vs', u'cop', u'hi', u'l'], [u'badger', u'scull', u'tories'], [u'j', u'i', u'ha', u'di', u'j', u'oh', u'n'], [u'just', u'say', u'in'], [u'just', u'no', u'tup', u'toit'], [u'in', u'die', u'music'], [u'tele', u'c', u'om', u's'], [u'horse', u'racing'], [u'li', u'b', u'd', u'em', u'problems'], [u'mil', u'if', u'and', u'om'], [u'superhero', u'es'], [u'q', u'f', u'era', u'news'], [u'wa', u'lan', u'g', u'ma', u'kaka', u'pig', u'i', u'ls', u'akin'], [u'deals', u'ut', u'hao', u'note', u'ba', u'chao'], [u'fa', u'rage', u'fail'], [u'con', u'grat', u's'], [u'fresh', u'ers', u'to', u'finals'], [u'scot', u'land'], [u'frack', u'ing'], [u'yo', u'g', u'yak', u'ar', u'ta'], [u'green', u'surge'], [u'b', u'blo', u'g', u'gers'], [u'hyp', u'ocracy'], [u'vote', u'labour', u'or', u'else'], [u'ash', u'ram', u'calling'], [u'the', u'g', u'ran', u'dad'], [u'sa', u'bad', u'ode', u'ga', u'nar', u'seg', u'u', u'id', u'ores'], [u'ba', u'tal', u'lad', u'el', u'os', u'gall', u'os'], [u'say', u'si', u'tall'], [u'photo', u'of', u'the', u'day'], [u'immigrant', u'solution'], [u'an', u'tag', u'had', u'h'], [u'anyway', u'he', u'di', u'da', u'nice', u'job'], [u'p', u're', u'mi', u'os', u'tum', u'undo'], [u'w', u'he', u'reis', u'the', u'sun'], [u'wat', u'k', u'ie', u'st', u'n', u'l'], [u'sexy', u'sa', u'tur', u'day'], [u's', u'love', u'ni', u'a'], [u'even', u'worse', u'than', u'kay', u'bur', u'ley'], [u'vs', u'coco', u'us', u'ins'], [u'nick', u'c', u'l', u'egg'], [u'cat', u'chin', u'gup'], [u'healthy', u'life', u'style'], [u'mil', u'li', u'brand', u'cuts'], [u'cleg', u'gers'], [u'ha', u'v', u'ea', u'good', u'day'], [u'teng', u'k', u'u', u'a', u'ar', u'on', u'shah'], [u'wear', u'eon', u'the', u'same', u'side', u'get', u'rid', u'of', u'cam', u'er', u'on'], [u'dis', u'ne', u'yin', u'finity'], [u'k', u'i', u'k', u'sex', u'ting'], [u'sad', u'mano', u'natr', u'ai', u'n'], [u'dont', u'v', u'o', u't', u'eu', u'kip'], [u'hind', u'ug', u'od'], [u'za', u'yn', u'is', u'coming', u'back'], [u'b', u'log', u'p', u'or', u'n', u'star'], [u'local', u'garage', u'derby'], [u'do', u'u', u'blee', u'ur', u'o', u'pean', u'trouble'], [u'fa', u'v', u'our', u'it', u'es'], [u'mi', u'li', u'band']]\n"
     ]
    }
   ],
   "source": [
    "###Rational: the correctly split tokens have 2 characteristics:\n",
    "###1.have very little single character tokens\n",
    "###2.its original form exist in the dictionary\n",
    "###countChar penalise single char token\n",
    "###countOrigin reward the token that exist in the words as its original form\n",
    "def countChar(tokenList):\n",
    "\tcount = 0\n",
    "\tif tokenList:\n",
    "\t\tfor token in tokenList:\n",
    "\t\t\tif len(token) == 1:\n",
    "\t\t\t\tcount -= 1\n",
    "\treturn count\n",
    "\n",
    "def countOrigin(tokenList):\n",
    "\tcount = 0\n",
    "\tif tokenList:\n",
    "\t\tfor token in tokenList:\n",
    "\t\t\tif token in words:\n",
    "\t\t\t\tcount += 1\n",
    "\treturn count\n",
    "\n",
    "def matchPick(maxResult, maxRevResult):\n",
    "\tmaxAcc = 0\n",
    "\tmaxRevAcc = 0\n",
    "\tmaxAcc = countChar(maxResult) + countOrigin(maxResult)\n",
    "\tmaxRevAcc = countChar(maxRevResult) + countOrigin(maxRevResult)\n",
    "\tif maxAcc > maxRevAcc:\n",
    "\t\treturn maxMatch \n",
    "\telse:\n",
    "\t\treturn maxMatchReverse\n",
    "    \n",
    "    \n",
    "tagLength = len(hashtags)\n",
    "difTagSta = []\n",
    "difTagRev = []\n",
    "difTag = {}\n",
    "counter = 0\n",
    "while counter < tagLength: \n",
    "\tsta = tokenisedTagsSta[counter]\n",
    "\trev = tokenisedTagsRev[counter]\n",
    "\tif len(sta) != len(rev):\n",
    "\t\tdifTagSta.append(sta)\n",
    "\t\tdifTagRev.append(rev)\n",
    "\t\tdifTag[\"\".join(sta)] = (sta,rev)\n",
    "\telse:\n",
    "\t\tinnerCounter = 0\n",
    "\t\twhile innerCounter < len(sta):\n",
    "\t\t\tif sta[innerCounter] != rev[innerCounter]:\n",
    "\t\t\t\tdifTagSta.append(sta)\n",
    "\t\t\t\tdifTagRev.append(rev)\n",
    "\t\t\t\tdifTag[\"\".join(sta)] = (sta, rev)\n",
    "\t\t\t\tbreak\n",
    "\t\t\tinnerCounter += 1\n",
    "\tcounter += 1\n",
    "###for validation purpose, print out the collection of different tag\n",
    "###print \"tag\", difTag\n",
    "\n",
    "screenedTag = []\n",
    "for tag in difTag.keys():\n",
    "\t(maxResult, maxRevResult) = difTag[tag]\n",
    "\tfunc = matchPick(maxResult, maxRevResult)\n",
    "\tscreenedTag.append(func(tag, words, []))\n",
    "\n",
    "###for validation purpose, print out the screened tag\n",
    "###print \"screened Tag \\n\", screenedTag\n",
    "\n",
    "###corrected example\n",
    "###u'supersmash', u'votingsystemturnoff', u'gamedesign' etc\n",
    "\n",
    "###print \"done\""
   ]
  },
  {
   "cell_type": "markdown",
   "metadata": {},
   "source": [
    "## Text classification (Not Optional)"
   ]
  },
  {
   "cell_type": "markdown",
   "metadata": {},
   "source": [
    "<b>Instructions</b>: The twitter_sample corpus has two subcorpora corresponding to positive and negative tweets. You can access already tokenised versions using the <i> tokenized </i> method, as given in the code sample below. Iterate through these two corpora and build training, development, and test sets for use with Scikit-learn. You should exclude stopwords (from the built-in NLTK list) and tokens with non-alphabetic characters (this is very important you do this because emoticons were used to build the corpus, if you don't remove them performance will be artificially high). You should randomly split each subcorpus, using 80% of the tweets for training, 10% for development, and 10% for testing; make sure you do this <b>before</b> combining the tweets from the positive/negative subcorpora, so that the sets are <i>stratified</i>, i.e. the exact ratio of positive and negative tweets is preserved across the three sets. (1.0)"
   ]
  },
  {
   "cell_type": "code",
   "execution_count": 5,
   "metadata": {},
   "outputs": [
    {
     "name": "stdout",
     "output_type": "stream",
     "text": [
      "[nltk_data] Downloading package stopwords to /Users/Rena/nltk_data...\n",
      "[nltk_data]   Package stopwords is already up-to-date!\n"
     ]
    }
   ],
   "source": [
    "positive_tweets = nltk.corpus.twitter_samples.tokenized(\"positive_tweets.json\")\n",
    "negative_tweets = nltk.corpus.twitter_samples.tokenized(\"negative_tweets.json\")\n",
    "\n",
    "import re\n",
    "nltk.download('stopwords')\n",
    "from nltk.corpus import stopwords\n",
    "\n",
    "stopwords = set(stopwords.words('english'))\n",
    "\n",
    "def removeStopwordsNPattern(tweetList, stopwords):\n",
    "    ###remove stop words, and words that are not alphabetical\n",
    "    ###from the result generated, remove empty list\n",
    "\tnewTweetList = []\n",
    "\tif tweetList:\n",
    "\t\tfor tweet in tweetList:\n",
    "\t\t\tnewTweet = []\n",
    "\t\t\tfor word in tweet:\n",
    "\t\t\t\tif word.isalpha():\n",
    "\t\t\t\t\tif word not in stopwords:\n",
    "\t\t\t\t\t\tnewTweet.append(word)\n",
    "\t\t\tnewTweetList.append(newTweet)\n",
    "\tcleanedTweetList = []\n",
    "\tfor tweets in newTweetList:\n",
    "\t\tif tweets:\n",
    "\t\t\tcleanedTweetList.append(tweets)\n",
    "\treturn cleanedTweetList\n",
    "\n",
    "cleanedPosTweet = removeStopwordsNPattern(positive_tweets, stopwords)\n",
    "cleanedNegTweet = removeStopwordsNPattern(negative_tweets, stopwords)\n",
    "\n",
    "\n",
    "\n",
    "def getBOW(text):\n",
    "    ###sourced from the example from lecture-classifier\n",
    "\tBOW = {}\n",
    "\tfor word in text:\n",
    "\t\tBOW[word] = BOW.get(word, 0) + 1\n",
    "\treturn BOW\n",
    "\n",
    "\n",
    "def prepareTweetData(vectorizer, posTweet, negTweet, \n",
    "                     featureExtractor, train = True):\n",
    "    ###generate matrix-classification dataset\n",
    "\tfeatureMatrix = []\n",
    "\tclassification = []\n",
    "\tif posTweet:\n",
    "\t\tfor tweet in posTweet:\n",
    "\t\t\tfeatureDict = featureExtractor(tweet)\n",
    "\t\t\tfeatureMatrix.append(featureDict)\n",
    "\t\t\tclassification.append(\"POS\")\n",
    "\tif negTweet:\n",
    "\t\tfor tweet in negTweet:\n",
    "\t\t\tfeatureDict = featureExtractor(tweet)\n",
    "\t\t\tfeatureMatrix.append(featureDict)\n",
    "\t\t\tclassification.append(\"NEG\")\n",
    "\tif train:\n",
    "\t\tdataset = vectorizer.fit_transform(featureMatrix)\n",
    "\telse:\n",
    "\t\tdataset = vectorizer.transform(featureMatrix)\n",
    "\treturn dataset, classification\n",
    "\n",
    "from sklearn.model_selection import train_test_split\n",
    "\n",
    "posTrain, posValid = train_test_split(cleanedPosTweet, test_size=0.2)\n",
    "posDev, posTest = train_test_split(posValid, test_size=0.5)\n",
    "\n",
    "negTrain, negValid = train_test_split(cleanedNegTweet, test_size=0.2)\n",
    "negDev, negTest = train_test_split(negValid, test_size=0.5)\n",
    "\n",
    "from sklearn.feature_extraction import DictVectorizer\n",
    "vectorizer = DictVectorizer()\n",
    "\n",
    "featureTrain, classTrain = prepareTweetData(\n",
    "    vectorizer, posTrain, negTrain, getBOW)\n"
   ]
  },
  {
   "cell_type": "markdown",
   "metadata": {},
   "source": [
    "<b>Instructions</b>: Now, let's build some classifiers. Here, we'll be comparing Naive Bayes and Logistic Regression. For each, you need to first find a good value for their main regularisation (hyper)parameters, which you should identify using the scikit-learn docs or other resources. Use the development set you created for this tuning process; do <b>not</b> use crossvalidation in the training set, or involve the test set in any way. You don't need to show all your work, but you do need to print out the accuracy with enough different settings to strongly suggest you have found an optimal or near-optimal choice. We should not need to look at your code to interpret the output. (1.0)"
   ]
  },
  {
   "cell_type": "code",
   "execution_count": 6,
   "metadata": {},
   "outputs": [
    {
     "name": "stdout",
     "output_type": "stream",
     "text": [
      "Development Data Result\n",
      "Naive Bayes Result - Optimal\n",
      "accuracy\n",
      "0.710261569416\n",
      "             precision    recall  f1-score   support\n",
      "\n",
      "        NEG       0.70      0.73      0.72       496\n",
      "        POS       0.72      0.69      0.70       498\n",
      "\n",
      "avg / total       0.71      0.71      0.71       994\n",
      "\n",
      "Naive Bayes Result - Small\n",
      "accuracy\n",
      "0.69416498994\n",
      "             precision    recall  f1-score   support\n",
      "\n",
      "        NEG       0.69      0.71      0.70       496\n",
      "        POS       0.70      0.68      0.69       498\n",
      "\n",
      "avg / total       0.69      0.69      0.69       994\n",
      "\n",
      "Naive Bayes Result - Medium\n",
      "accuracy\n",
      "0.70523138833\n",
      "             precision    recall  f1-score   support\n",
      "\n",
      "        NEG       0.70      0.72      0.71       496\n",
      "        POS       0.71      0.69      0.70       498\n",
      "\n",
      "avg / total       0.71      0.71      0.71       994\n",
      "\n",
      "Logistic Regression Result - Optimal\n",
      "accuracy\n",
      "0.72032193159\n",
      "             precision    recall  f1-score   support\n",
      "\n",
      "        NEG       0.70      0.77      0.73       496\n",
      "        POS       0.75      0.67      0.71       498\n",
      "\n",
      "avg / total       0.72      0.72      0.72       994\n",
      "\n",
      "Logistic Regression Result - Small\n",
      "accuracy\n",
      "0.713279678068\n",
      "             precision    recall  f1-score   support\n",
      "\n",
      "        NEG       0.69      0.77      0.73       496\n",
      "        POS       0.74      0.65      0.70       498\n",
      "\n",
      "avg / total       0.72      0.71      0.71       994\n",
      "\n",
      "Logistic Regression Result - Large\n",
      "accuracy\n",
      "0.71629778672\n",
      "             precision    recall  f1-score   support\n",
      "\n",
      "        NEG       0.70      0.76      0.73       496\n",
      "        POS       0.74      0.67      0.70       498\n",
      "\n",
      "avg / total       0.72      0.72      0.72       994\n",
      "\n"
     ]
    }
   ],
   "source": [
    "###The alpha and C value is picked via online reference and validated via GridSearchCV\n",
    "###To get a stable performance and avoid overfitting\n",
    "###The GridSearchCV is commented out to avoid crossvalidation for the training set in the programme\n",
    "\n",
    "'''from sklearn.naive_bayes import MultinomialNB\n",
    "from sklearn.linear_model import LogisticRegression\n",
    "\n",
    "from sklearn.model_selection import GridSearchCV\n",
    "\n",
    "alpha_collection = {}\n",
    "alpha_collection['alpha'] = [0.1,0.2,0.3,0.4,0.5,0.6,0.7,0.8,0.9]\n",
    "c_collection = {}\n",
    "c_collection['C'] = [0.1,0.2,0.3,0.4,0.5,0.6,0.7,0.8,0.9]\n",
    "\n",
    "nb_clf = MultinomialNB()\n",
    "lg_clf = LogisticRegression(random_state = 333)\n",
    "\n",
    "grid_nbclf = GridSearchCV(nb_clf, alpha_collection, 'accuracy')\n",
    "grid_nbclf.fit(featureTrain, classTrain)\n",
    "print \"NB Optimal\",grid_nbclf.best_params_\n",
    "\n",
    "grid_lgclf = GridSearchCV(lg_clf, c_collection, 'accuracy')\n",
    "grid_lgclf.fit(featureTrain, classTrain)\n",
    "print \"LG Optimal\", grid_lgclf.best_params_'''\n",
    "\n",
    "from sklearn.naive_bayes import MultinomialNB\n",
    "from sklearn.linear_model import LogisticRegression\n",
    "\n",
    "clf = MultinomialNB(alpha=0.9)\n",
    "clf.fit(featureTrain, classTrain)\n",
    "\n",
    "clfSmall = MultinomialNB(alpha = 0.1)\n",
    "clfSmall.fit(featureTrain, classTrain)\n",
    "clfMedium = MultinomialNB(alpha = 0.5)\n",
    "clfMedium.fit(featureTrain, classTrain)\n",
    "\n",
    "logreg = LogisticRegression(C=0.6)\n",
    "logreg.fit(featureTrain, classTrain)\n",
    "\n",
    "logregSmall = LogisticRegression(C = 0.1)\n",
    "logregSmall.fit(featureTrain, classTrain)\n",
    "logregLarge = LogisticRegression(C = 0.9)\n",
    "logregLarge.fit(featureTrain, classTrain)\n",
    "\n",
    "\n",
    "from sklearn.metrics import accuracy_score, classification_report\n",
    "def checkResults(predictions, classifications):\n",
    "\tprint \"accuracy\"\n",
    "\tprint accuracy_score(classifications, predictions)\n",
    "\tprint classification_report(classifications, predictions)\n",
    "\n",
    "featureDev, classDev = prepareTweetData(\n",
    "    vectorizer, posDev, negDev, getBOW, train=False)\n",
    "\n",
    "devPredNB = clf.predict(featureDev)\n",
    "devPredNBSmall = clfSmall.predict(featureDev)\n",
    "devPredNBMedium = clfMedium.predict(featureDev)\n",
    "\n",
    "devPredLR = logreg.predict(featureDev)\n",
    "devPredLRSmall = logregSmall.predict(featureDev)\n",
    "devPredLRLarge = logregLarge.predict(featureDev)\n",
    "\n",
    "\n",
    "print \"Development Data Result\"\n",
    "print \"Naive Bayes Result - Optimal\"\n",
    "checkResults(devPredNB, classDev)\n",
    "print \"Naive Bayes Result - Small\"\n",
    "checkResults(devPredNBSmall, classDev)\n",
    "print \"Naive Bayes Result - Medium\"\n",
    "checkResults(devPredNBMedium, classDev)\n",
    "print \"Logistic Regression Result - Optimal\"\n",
    "checkResults(devPredLR, classDev)\n",
    "print \"Logistic Regression Result - Small\"\n",
    "checkResults(devPredLRSmall, classDev)\n",
    "print \"Logistic Regression Result - Large\"\n",
    "checkResults(devPredLRLarge, classDev)"
   ]
  },
  {
   "cell_type": "markdown",
   "metadata": {},
   "source": [
    "<b>Instructions</b>: Using the best settings you have found, compare the two classifiers based on performance in the test set. Print out both accuracy and macroaveraged f-score for each classifier. Be sure to label your output. (0.5)"
   ]
  },
  {
   "cell_type": "code",
   "execution_count": 7,
   "metadata": {},
   "outputs": [
    {
     "name": "stdout",
     "output_type": "stream",
     "text": [
      "Test Data Result\n",
      "Naive Bayes Result\n",
      "accuracy\n",
      "0.73138832998\n",
      "             precision    recall  f1-score   support\n",
      "\n",
      "        NEG       0.73      0.74      0.73       496\n",
      "        POS       0.74      0.72      0.73       498\n",
      "\n",
      "avg / total       0.73      0.73      0.73       994\n",
      "\n",
      "Logistic Regression Result\n",
      "accuracy\n",
      "0.760563380282\n",
      "             precision    recall  f1-score   support\n",
      "\n",
      "        NEG       0.74      0.80      0.77       496\n",
      "        POS       0.78      0.72      0.75       498\n",
      "\n",
      "avg / total       0.76      0.76      0.76       994\n",
      "\n"
     ]
    }
   ],
   "source": [
    "featureTest, classTest = prepareTweetData(vectorizer, posTest, negTest, getBOW, train=False)\n",
    "testPredNB = clf.predict(featureTest)\n",
    "testPredLG = logreg.predict(featureTest)\n",
    "\n",
    "print \"Test Data Result\"\n",
    "print \"Naive Bayes Result\"\n",
    "checkResults(testPredNB, classTest)\n",
    "print \"Logistic Regression Result\"\n",
    "checkResults(testPredLG, classTest)"
   ]
  },
  {
   "cell_type": "code",
   "execution_count": null,
   "metadata": {},
   "outputs": [],
   "source": []
  }
 ],
 "metadata": {
  "anaconda-cloud": {},
  "kernelspec": {
   "display_name": "Python 2",
   "language": "python",
   "name": "python2"
  },
  "language_info": {
   "codemirror_mode": {
    "name": "ipython",
    "version": 2
   },
   "file_extension": ".py",
   "mimetype": "text/x-python",
   "name": "python",
   "nbconvert_exporter": "python",
   "pygments_lexer": "ipython2",
   "version": "2.7.10"
  }
 },
 "nbformat": 4,
 "nbformat_minor": 1
}
