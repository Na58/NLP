{
 "cells": [
  {
   "cell_type": "markdown",
   "metadata": {},
   "source": [
    "# Homework 4: Language Modelling in Hangman"
   ]
  },
  {
   "cell_type": "markdown",
   "metadata": {
    "collapsed": true
   },
   "source": [
    "Student Name: NA CHANG\n",
    "\n",
    "Student ID: 858604\n",
    "\n",
    "Python version used: 2.7"
   ]
  },
  {
   "cell_type": "markdown",
   "metadata": {},
   "source": [
    "## General info"
   ]
  },
  {
   "cell_type": "markdown",
   "metadata": {},
   "source": [
    "<b>Due date</b>: 11pm, Wednesday May 2nd\n",
    "\n",
    "<b>Submission method</b>: see LMS\n",
    "\n",
    "<b>Submission materials</b>: completed copy of this iPython notebook\n",
    "\n",
    "<b>Late submissions</b>: -20% per day\n",
    "\n",
    "<b>Marks</b>: 5% of mark for class\n",
    "\n",
    "<b>Overview</b>: In this homework, you'll be creating an 'artificial intelligence' player for the classic Hangman word guessing game. You will need to implement several different automatic strategies based on character level language models, ranging from unigram approaches to higher over n-gram models. Your objective is to create an automatic player which makes the fewest mistakes.\n",
    "\n",
    "<b>Materials</b>: See the main class LMS page for information on the basic setup required for this class, including an iPython notebook viewer and the python packages NLTK, Numpy, Scipy, Matplotlib, Scikit-Learn, and Gensim. In particular, if you are not using a lab computer which already has it installed, we recommend installing all the data for NLTK, since you will need various parts of it to complete this assignment. You can also use any Python built-in packages, but do not use any other 3rd party packages; if your iPython notebook doesn't run on the marker's machine, you will lose marks.  \n",
    "\n",
    "<b>Evaluation</b>: Your iPython notebook should run end-to-end without any errors in a reasonable amount of time, and you must follow all instructions provided below, including specific implementation requirements and instructions for what needs to be printed (please avoid printing output we don't ask for). You should leave the output from running your code in the iPython notebook you submit, to assist with marking. The amount each section is worth is given in parenthesis after the instructions. You will be marked not only on the correctness of your methods, but also the quality and efficency of your code: in particular, you should be careful to use Python built-in functions and operators when appropriate and pick descriptive variable names that adhere to <a href=\"https://www.python.org/dev/peps/pep-0008/\">Python style requirements</a>. If you think it might be unclear what you are doing, you should comment your code to help the marker make sense of it.\n",
    "\n",
    "<b>Extra credit</b>: Each homework has a task which is optional with respect to getting full marks on the assignment, but that can be used to offset any points lost on this or any other homework assignment (but not the final project or the exam). We recommend you skip over this step on your first pass, and come back if you have time: the amount of effort required to receive full marks (1 point) on an extra credit question will be substantially more than earning the same amount of credit on other parts of the homework.\n",
    "\n",
    "<b>Updates</b>: Any major changes to the assignment will be announced via LMS. Minor changes and clarifications will be announced in the forum on LMS, we recommend you check the forum regularly.\n",
    "\n",
    "<b>Academic Misconduct</b>: For most people, collaboration will form a natural part of the undertaking of this homework, and we encourge you to discuss it in general terms with other students. However, this ultimately is still an individual task, and so reuse of code or other instances of clear influence will be considered cheating. We will be checking submissions for originality and will invoke the University’s <a href=\"http://academichonesty.unimelb.edu.au/policy.html\">Academic Misconduct policy</a> where inappropriate levels of collusion or plagiarism are deemed to have taken place.\n"
   ]
  },
  {
   "cell_type": "markdown",
   "metadata": {},
   "source": [
    "## The Hangman Game"
   ]
  },
  {
   "cell_type": "markdown",
   "metadata": {},
   "source": [
    "The <a href=\"https://en.wikipedia.org/wiki/Hangman_(game)\">Hangman game</a> is a simple game whereby one person thinks of a word, which they keep secret from their opponent, who tries to guess the word one character at a time. The game ends when the opponent makes more than a fixed number of incorrect guesses, or they figure out the secret word before then (in which case they *win*). \n",
    "\n",
    "Here's a simple version of the game, and a method allowing interactive play. "
   ]
  },
  {
   "cell_type": "code",
   "execution_count": 1,
   "metadata": {},
   "outputs": [],
   "source": [
    "# allowing better python 2 & python 3 compatibility \n",
    "from __future__ import print_function \n",
    "\n",
    "def hangman(secret_word, guesser, max_mistakes=8, verbose=True, **guesser_args):\n",
    "    \"\"\"\n",
    "        secret_word: a string of lower-case alphabetic characters, i.e., the answer to the game\n",
    "        guesser: a function which guesses the next character at each stage in the game\n",
    "            The function takes a:\n",
    "                mask: what is known of the word, as a string with _ denoting an unknown character\n",
    "                guessed: the set of characters which already been guessed in the game\n",
    "                guesser_args: additional (optional) keyword arguments, i.e., name=value\n",
    "        max_mistakes: limit on length of game, in terms of allowed mistakes\n",
    "        verbose: be chatty vs silent\n",
    "        guesser_args: keyword arguments to pass directly to the guesser function\n",
    "    \"\"\"\n",
    "    secret_word = secret_word.lower()\n",
    "    mask = ['_'] * len(secret_word)\n",
    "    guessed = set()\n",
    "    if verbose:\n",
    "        print(\"Starting hangman game. Target is\", ' '.join(mask), 'length', len(secret_word))\n",
    "    \n",
    "    mistakes = 0\n",
    "    while mistakes < max_mistakes:\n",
    "        if verbose:\n",
    "            print(\"You have\", (max_mistakes-mistakes), \"attempts remaining.\")\n",
    "        guess = guesser(mask, guessed, **guesser_args)\n",
    "\n",
    "        if verbose:\n",
    "            print('Guess is', guess)\n",
    "        if guess in guessed:\n",
    "            if verbose:\n",
    "                print('Already guessed this before.')\n",
    "            mistakes += 1\n",
    "        else:\n",
    "            guessed.add(guess)\n",
    "            if guess in secret_word:\n",
    "                for i, c in enumerate(secret_word):\n",
    "                    if c == guess:\n",
    "                        mask[i] = c\n",
    "                if verbose:\n",
    "                    print('Good guess:', ' '.join(mask))\n",
    "            else:\n",
    "                if verbose:\n",
    "                    print('Sorry, try again.')\n",
    "                mistakes += 1\n",
    "                \n",
    "        if '_' not in mask:\n",
    "            if verbose:\n",
    "                print('Congratulations, you won.')\n",
    "            return mistakes\n",
    "        \n",
    "    if verbose:\n",
    "        print('Out of guesses. The word was', secret_word)    \n",
    "    return mistakes\n",
    "\n",
    "def human(mask, guessed, **kwargs):\n",
    "    \"\"\"\n",
    "    simple function for manual play\n",
    "    \"\"\"\n",
    "    print('Enter your guess:')\n",
    "    try:\n",
    "        return raw_input().lower().strip() # python 3\n",
    "    except NameError:\n",
    "        return input().lower().strip() # python 2"
   ]
  },
  {
   "cell_type": "markdown",
   "metadata": {},
   "source": [
    "You can play the game interactively using the following command:"
   ]
  },
  {
   "cell_type": "code",
   "execution_count": null,
   "metadata": {},
   "outputs": [],
   "source": [
    "hangman('whatever', human, 8, True)"
   ]
  },
  {
   "cell_type": "markdown",
   "metadata": {
    "collapsed": true
   },
   "source": [
    "<b>Instructions</b>: We will be using the words occurring in the *Brown* corpus for *training* an artificial intelligence guessing algorithm, and for *evaluating* the quality of the method. Note that we are intentionally making the hangman game hard, as the AI will need to cope with test words that it has not seen before, hence it will need to learn generalisable patterns of characters to make reasonable predictions.\n",
    "\n",
    "Your first task is to compute the unique word types occurring in the *Brown* corpus, using `nltk.corpus.Brown`, selecting only words that are entirely comprised of alphabetic characters, and lowercasing the words. Finally, randomly shuffle (`numpy.random.shuffle`) this collection of word types, and split them into disjoint training and testing sets. The test set should contain 1000 word types, and the rest should be in the training set. Your code should print the sizes of the training and test sets.\n",
    "\n",
    "Feel free to test your own Hangman performance using `hangman(numpy.random.choice(test_set), human, 8, True)`. It is surprisingly difficult (and addictive)!\n",
    "\n",
    "(0.5 mark)"
   ]
  },
  {
   "cell_type": "code",
   "execution_count": 2,
   "metadata": {},
   "outputs": [
    {
     "name": "stdout",
     "output_type": "stream",
     "text": [
      "[nltk_data] Downloading package brown to /Users/Rena/nltk_data...\n",
      "[nltk_data]   Package brown is already up-to-date!\n",
      "Length of test set:  1000\n",
      "Length of training set:  45185\n"
     ]
    }
   ],
   "source": [
    "import nltk\n",
    "import numpy\n",
    "\n",
    "nltk.download('brown')\n",
    "from nltk.corpus import brown\n",
    "\n",
    "words = set(brown.words())\n",
    "\n",
    "word_type = []\n",
    "for wr in words:\n",
    "    if wr.isalpha():\n",
    "        word_type.append(wr.lower())\n",
    "\n",
    "numpy.random.shuffle(word_type)\n",
    "test_set = word_type[:1000]\n",
    "training_set = word_type[1000:]\n",
    "\n",
    "print (\"Length of test set: \", len(test_set)) #1000\n",
    "print (\"Length of training set: \", len(training_set)) #45185"
   ]
  },
  {
   "cell_type": "markdown",
   "metadata": {},
   "source": [
    "<b>Instructions</b>: To set a baseline, your first *AI* attempt will be a trivial random method. For this you should implement a guessing method, similar to the `human` method above, i.e., using the same input arguments and returning a character. Your method should randomly choose a character from the range `'a'...'z'` after excluding the characters that have already been guessed in the current game (all subsequent AI approaches should also exclude previous guesses). You might want to use `numpy.random.choice` for this purpose.\n",
    "\n",
    "To measure the performance of this (and later) techiques, implement a method that measures the average number of mistakes made by this technique over all the words in the `test_set`. You will want to turn off the printouts for this, using the `verbose=False` option, and increase the cap on the game length to `max_mistakes=26`. Print the average number of mistakes for the random AI, which will become a baseline for the following steps.\n",
    "\n",
    "(1 mark)"
   ]
  },
  {
   "cell_type": "code",
   "execution_count": 3,
   "metadata": {},
   "outputs": [
    {
     "name": "stdout",
     "output_type": "stream",
     "text": [
      "AVG mistake-random agent:  16.714\n"
     ]
    }
   ],
   "source": [
    "def evaluate(agent, **guesser_args):\n",
    "    mis_count = 0\n",
    "    for word in test_set:\n",
    "        mistake = hangman(word, agent, 26, verbose = False, **guesser_args)\n",
    "        mis_count += mistake\n",
    "    return mis_count\n",
    "\n",
    "\n",
    "\n",
    "def random_agent(mask, guessed, **kwargs):\n",
    "    char_pool = map(chr, range(ord('a'),ord('z')+1,1))\n",
    "    map(char_pool.remove, guessed)\n",
    "    response = numpy.random.choice(char_pool)\n",
    "    return response\n",
    "\n",
    "print (\"AVG mistake-random agent: \", float(evaluate(random_agent))/len(test_set))"
   ]
  },
  {
   "cell_type": "markdown",
   "metadata": {},
   "source": [
    "**Instructions:** As your first real AI, you should train a *unigram* model over the training set.  This requires you to find the frequencies of characters over all training words. Using this model, you should write a guess function that returns the character with the highest probability, after aggregating (summing) the probability of each blank character in the secret word. Print the average number of mistakes the unigram method makes over the test set. Remember to exclude already guessed characters, and use the same evaluation method as above, so the results are comparable. (Hint: it should be much lower than for random).\n",
    "\n",
    "(1 mark)"
   ]
  },
  {
   "cell_type": "code",
   "execution_count": 4,
   "metadata": {},
   "outputs": [
    {
     "name": "stdout",
     "output_type": "stream",
     "text": [
      "AVG mistake-unigram agent:  10.368\n"
     ]
    }
   ],
   "source": [
    "def char_count(corpus):\n",
    "    char_pool = map(chr, range(ord('a'),ord('z')+1,1))\n",
    "    char_freq = {}\n",
    "    for char in char_pool:\n",
    "        char_freq[char] = 0\n",
    "\n",
    "    for word in corpus:\n",
    "        for char in word:\n",
    "            char_freq[char] += 1\n",
    "    return char_freq\n",
    "\n",
    "def unigram_agent(mask, guessed, char_freq):\n",
    "    freq = dict(char_freq)\n",
    "    map(freq.pop, guessed)\n",
    "    char_sort = sorted(freq.items(), key = lambda x: x[1], reverse = True)\n",
    "    (c, f) = char_sort[0]\n",
    "    return c\n",
    "\n",
    "uni_freq = char_count(training_set)\n",
    "\n",
    "print (\"AVG mistake-unigram agent: \", float(evaluate(unigram_agent, char_freq=uni_freq))/len(test_set))"
   ]
  },
  {
   "cell_type": "markdown",
   "metadata": {},
   "source": [
    "**Instructions:** The length of the secret word is an important clue that we might exploit. Different length words tend to have different distributions over characters, e.g., short words are less likely to have suffixes or prefixes. Your job now is to incorporate this idea by conditioning the unigram model on the length of the secret word, i.e., having *different* unigram models for each length of word. You will need to be a little careful at test time, to be robust to the (unlikely) situation that you encounter a word length that you didn't see in training. Create another AI guessing function using this new model, and print its test performance.   \n",
    "\n",
    "(0.5 marks)"
   ]
  },
  {
   "cell_type": "code",
   "execution_count": 5,
   "metadata": {},
   "outputs": [
    {
     "name": "stdout",
     "output_type": "stream",
     "text": [
      "AVG mistake-length unigram agent:  10.28\n"
     ]
    }
   ],
   "source": [
    "def len_char_count(corpus = training_set):\n",
    "    len_char_freq = {}\n",
    "\n",
    "    char_pool = map(chr, range(ord('a'),ord('z')+1,1))\n",
    "    default_char_freq = {}\n",
    "    for char in char_pool:\n",
    "        default_char_freq[char] = 0\n",
    "\n",
    "    counter = 0\n",
    "    for word in corpus:\n",
    "        exist_dic = len_char_freq.setdefault(len(word), dict(default_char_freq))\n",
    "\n",
    "        new_dic = char_count(word)\n",
    "        for key in exist_dic.keys():\n",
    "            exist_dic[key] += new_dic[key]\n",
    "    return len_char_freq \n",
    "\n",
    "def len_unigram_agent(mask, guessed, char_freq):\n",
    "\n",
    "    keys = char_freq.keys()\n",
    "    word_length = len(mask)\n",
    "    if word_length in keys:\n",
    "        len_char_freq = dict(char_freq[word_length])\n",
    "    else:\n",
    "        len_char_freq = dict(char_freq[keys[-1]])\n",
    "    return unigram_agent(mask, guessed, len_char_freq)\n",
    "\n",
    "len_unigram_freque = len_char_count()\n",
    "\n",
    "\n",
    "print (\"AVG mistake-length unigram agent: \", float(evaluate(len_unigram_agent, char_freq=len_unigram_freque))/len(test_set))"
   ]
  },
  {
   "cell_type": "markdown",
   "metadata": {},
   "source": [
    "**Instructions:** Now for the main challenge, using a *ngram* language model over characters. The order of characters is obviously important, yet this wasn't incorporated in any of the above models. Knowing that the word has the sequence `n _ s s` is a pretty strong clue that the missing character might be `e`. Similarly the distribution over characters that start or end a word are highly biased (e.g., toward common prefixes and suffixes, like *un-*, *-ed* and *-ly*).\n",
    "\n",
    "Your job is to develop a *ngram* language model over characters, train this over the training words (being careful to handle the start of each word properly, e.g., by padding with sentinel symbols.) You should use linear interpolation to smooth between the higher order and lower order models, and you will have to decide how to weight each component. \n",
    "\n",
    "Your guessing AI algorithm should apply your language model to each blank position in the secret word by using as much of the left context as is known. E.g., in `_ e c _ e _ _` we know the full left context for the first blank (context=start of word), we have a context of two characters for the second blank (context=ec), one character for the second last blank (context=e), and no known context for the last one. If we were using a *n=3* order model, we would be able to apply it to the first and second blanks, but would only be able to use the bigram or unigram distributions for the subsequent blanks. As with the unigram model, you should sum over the probability distributions for each blank to find the expected count for each character type, then select the  character with the highest expected count.\n",
    "\n",
    "Implement the ngram method for *n=3,4* and *5* and evaluate each of these three models over the test set. Do you see any improvement over the unigram methods above?\n",
    "\n",
    "(2 marks)"
   ]
  },
  {
   "cell_type": "code",
   "execution_count": 7,
   "metadata": {},
   "outputs": [
    {
     "name": "stdout",
     "output_type": "stream",
     "text": [
      "AVG mistake trigram agent:  8.4\n",
      "AVG mistake fourgram agent:  7.901\n",
      "AVG mistake fivegram agent:  7.684\n"
     ]
    }
   ],
   "source": [
    "def word_padding(corpus, padding):\n",
    "    prefix = ''\n",
    "    suffix = ''\n",
    "    for i in range(padding-1):\n",
    "        num = i+1\n",
    "        suffix += str(num)\n",
    "        prefix = str(num)+prefix\n",
    "\n",
    "    padded_corpus = []\n",
    "    for word in corpus:\n",
    "        w = prefix + word + suffix\n",
    "        padded_corpus.append(w)\n",
    "\n",
    "    return padded_corpus\n",
    "\n",
    "\n",
    "def n_gram_count(corpus, n):\n",
    "    n_gram_freq = {}\n",
    "    for word in corpus:\n",
    "        if len(word) < n:\n",
    "            pass\n",
    "        else:\n",
    "            while len(word) >= n:\n",
    "                key = word[:n]\n",
    "                n_gram_freq[key] = n_gram_freq.setdefault(key, 0) + 1\n",
    "                word = word[1:]\n",
    "    return n_gram_freq\n",
    "\n",
    "def n_gram_prob(lower_gram_freq, higher_grame_freq, corpus_word_no):\n",
    "    n_gram_prob = {}\n",
    "    for key, val in higher_grame_freq.iteritems():\n",
    "        \n",
    "        if key[:-1] in lower_gram_freq:\n",
    "            n_gram_prob[key] = float(val) / lower_gram_freq[key[:-1]]\n",
    "        else:\n",
    "            \n",
    "            n_gram_prob[key] = float(val) / corpus_word_no\n",
    "    return n_gram_prob\n",
    "\n",
    "unigram_prob = {}\n",
    "unigram_count = len(''.join(training_set))\n",
    "for key, val in uni_freq.iteritems():\n",
    "    unigram_prob[key] = float(val)/unigram_count\n",
    "\n",
    "\n",
    "bigram_freq = n_gram_count(word_padding(training_set, 2),2)\n",
    "trigram_freq = n_gram_count(word_padding(training_set, 3),3)\n",
    "fourgram_freq = n_gram_count(word_padding(training_set, 4),4)\n",
    "fivegram_freq = n_gram_count(word_padding(training_set, 5),5)\n",
    "\n",
    "\n",
    "\n",
    "word_count = len(training_set)\n",
    "bigram_prob = n_gram_prob(uni_freq, bigram_freq, word_count)\n",
    "trigram_prob = n_gram_prob(bigram_freq, trigram_freq, word_count)\n",
    "fourgram_prob = n_gram_prob(trigram_freq, fourgram_freq, word_count)\n",
    "fivegram_prob = n_gram_prob(fourgram_freq, fivegram_freq, word_count)\n",
    "\n",
    "\n",
    "ngram_proba = [unigram_prob, bigram_prob, trigram_prob, fourgram_prob, fivegram_prob]\n",
    "\n",
    "def n_gram_agent(mask, guessed, weight, ngram_prob):\n",
    "    n = len(weight)\n",
    "    ngram_prob = list(ngram_prob)\n",
    "    mask = word_padding([''.join(mask)], n)[0]\n",
    "    index = 0\n",
    "\n",
    "    probability = {}\n",
    "    char_pool = map(chr, range(ord('a'),ord('z')+1,1))\n",
    "\n",
    "    while index < len(mask):\n",
    "        if mask[index] == '_':\n",
    "            context = mask[:index]\n",
    "            for char in char_pool:\n",
    "                if char not in guessed:\n",
    "                    prob = 0\n",
    "                    gram = char\n",
    "                    for i in range(n):\n",
    "                        \n",
    "                        if len(context) < i:\n",
    "                            break\n",
    "                        try:\n",
    "                            prob += ngram_prob[i][gram] * weight[i]\n",
    "                        except:\n",
    "                            pass\n",
    "                        gram = context[-(i+1):]+char\n",
    "                    probability[char] = prob + probability.setdefault(char, 0)\n",
    "        index += 1\n",
    "\n",
    "    char_sort = sorted(probability.items(), key = lambda x: x[1], reverse = True)\n",
    "    (c, f) = char_sort[0]\n",
    "    \n",
    "    return c\n",
    "\n",
    "\n",
    "\n",
    "bigram_weight = [0.3,0.7]\n",
    "trigram_weight = [0.2, 0.3, 0.5]\n",
    "fourgram_weight = [0.05, 0.15, 0.2, 0.6]\n",
    "fivegram_weight = [0.05, 0.05, 0.1, 0.2, 0.6]\n",
    "\n",
    "\n",
    "print (\"AVG mistake trigram agent: \", float(evaluate(n_gram_agent, weight = trigram_weight, ngram_prob = ngram_proba))/len(test_set))\n",
    "\n",
    "print (\"AVG mistake fourgram agent: \", float(evaluate(n_gram_agent, weight = fourgram_weight, ngram_prob = ngram_proba))/len(test_set))\n",
    "\n",
    "print (\"AVG mistake fivegram agent: \", float(evaluate(n_gram_agent, weight = fivegram_weight, ngram_prob = ngram_proba))/len(test_set))"
   ]
  },
  {
   "cell_type": "markdown",
   "metadata": {},
   "source": [
    "## Bonus: Improving the AI"
   ]
  },
  {
   "cell_type": "markdown",
   "metadata": {},
   "source": [
    "**Instructions:** To get the extra credit, you should try to develop a more effective AI for hangman. Feel free to engage your creativity here! Possibilities include better conditioning on the length of the word and the parts that are known, fancier smoothing methods, using backwards ngram models, or a fancier inference algorithm like forward-back using a HMM. Ensure you report the test performance of your method.\n",
    "\n",
    "You will be marked based on the ambition of your approach and on its accuracy. If you have tried some truly spectacular method but it didn't really work, then please include your implementation and an explanation, which will still attract marks for ambition.\n",
    "\n",
    "(1 bonus mark) "
   ]
  },
  {
   "cell_type": "code",
   "execution_count": null,
   "metadata": {},
   "outputs": [],
   "source": []
  }
 ],
 "metadata": {
  "anaconda-cloud": {},
  "kernelspec": {
   "display_name": "Python 2",
   "language": "python",
   "name": "python2"
  },
  "language_info": {
   "codemirror_mode": {
    "name": "ipython",
    "version": 2
   },
   "file_extension": ".py",
   "mimetype": "text/x-python",
   "name": "python",
   "nbconvert_exporter": "python",
   "pygments_lexer": "ipython2",
   "version": "2.7.10"
  }
 },
 "nbformat": 4,
 "nbformat_minor": 1
}
