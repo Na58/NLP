{
 "cells": [
  {
   "cell_type": "markdown",
   "metadata": {},
   "source": [
    "# Homework 2: Word Similarity"
   ]
  },
  {
   "cell_type": "markdown",
   "metadata": {
    "collapsed": true
   },
   "source": [
    "Student Name:\n",
    "\n",
    "Student ID:\n",
    "\n",
    "Python version used:"
   ]
  },
  {
   "cell_type": "markdown",
   "metadata": {},
   "source": [
    "## General info"
   ]
  },
  {
   "cell_type": "markdown",
   "metadata": {},
   "source": [
    "<b>Due date</b>: 1pm, Sunday April 1st\n",
    "\n",
    "<b>Submission method</b>: see LMS\n",
    "\n",
    "<b>Submission materials</b>: completed copy of this iPython notebook\n",
    "\n",
    "<b>Late submissions</b>: -20% per day\n",
    "\n",
    "<b>Marks</b>: 5% of mark for class\n",
    "\n",
    "<b>Overview</b>: In this homework, you'll be quantifying the similarity between pairs of words using the structure of WordNet and word co-occurrence in the Brown corpus, using PMI, LSA, and word2vec. You will quantify how well these methods work by comparing to a carefully filtered human annotated gold-standard.\n",
    "\n",
    "<b>Materials</b>: See the main class LMS page for information on the basic setup required for this class, including an iPython notebook viewer and the python packages NLTK, Numpy, Scipy, Matplotlib, Scikit-Learn, and Gensim. In particular, if you are not using a lab computer which already has it installed, we recommend installing all the data for NLTK, since you will need various parts of it to complete this assignment. You can also use any Python built-in packages, but do not use any other 3rd party packages; if your iPython notebook doesn't run on the marker's machine, you will lose marks. <b> It is recommended to use Python 2 but we accept Python 3 solutions</b>. Make sure you state which version you used in the beggining of this notebook.\n",
    "\n",
    "<b>Evaluation</b>: Your iPython notebook should run end-to-end without any errors in a reasonable amount of time, and you must follow all instructions provided below, including specific implementation requirements and instructions for what needs to be printed (please avoid printing output we don't ask for). You should leave the output from running your code in the iPython notebook you submit, to assist with marking. The amount each section is worth is given in parenthesis after the instructions. You will be marked not only on the correctness of your methods, but also the quality and efficency of your code: in particular, you should be careful to use Python built-in functions and operators when appropriate and pick descriptive variable names that adhere to <a href=\"https://www.python.org/dev/peps/pep-0008/\">Python style requirements</a>. If you think it might be unclear what you are doing, you should comment your code to help the marker make sense of it.\n",
    "\n",
    "<b>Extra credit</b>: Each homework has a task which is optional with respect to getting full marks on the assignment, but that can be used to offset any points lost on this or any other homework assignment (but not the final project or the exam). We recommend you skip over this step on your first pass, and come back if you have time: the amount of effort required to receive full marks (1 point) on an extra credit question will be substantially more than earning the same amount of credit on other parts of the homework.\n",
    "\n",
    "<b>Updates</b>: Any major changes to the assignment will be announced via LMS. Minor changes and clarifications will be announced in the forum on LMS, we recommend you check the forum regularly.\n",
    "\n",
    "<b>Academic Misconduct</b>: For most people, collaboration will form a natural part of the undertaking of this homework, and we encourge you to discuss it in general terms with other students. However, this ultimately is still an individual task, and so reuse of code or other instances of clear influence will be considered cheating. We will be checking submissions for originality and will invoke the University’s <a href=\"http://academichonesty.unimelb.edu.au/policy.html\">Academic Misconduct policy</a> where inappropriate levels of collusion or plagiarism are deemed to have taken place.\n"
   ]
  },
  {
   "cell_type": "markdown",
   "metadata": {
    "collapsed": true
   },
   "source": [
    "<b>Instructions</b>: For this homework we will be comparing our methods against a popular dataset of word similarities called Similarity-353. You need to first obtain this data set, which can be downloaded <a href=\"http://www.cs.technion.ac.il/~gabr/resources/data/wordsim353/wordsim353.zip\">here</a>. The file we will be using is called *combined.tab*. Except for the header (which should be stripped out), the file is tab formated with the first two columns corresponding to two words, and the third column representing a human-annotated similarity between the two words.\n",
    "\n",
    "Assume the file *combined.tab* is located <b>in the same folder as this notebook</b>. You should load this file into a Python dictionary (NOTE: in Python, tuples of strings, i.e. (\"tiger\",\"cat\") can serve as the keys of dictionaries). This dataset contains many rare words: we need to filter this dataset in order for it to be better suited to the resources we will use in this assignment. So your first goal is to filter this dataset to generate a smaller test set where you will evaluate your word similarity methods.\n",
    "\n",
    "The first filtering is based on document frequencies in the Brown corpus, in order to remove rare words. In this assignment, we will be treating the <i>paragraphs</i> of the Brown corpus as our \"documents\", you can iterate over them by using the `paras` method of the corpus reader. You should start by creating a Python list where each element of the list is a set containing the word <b>types</b> from a different paragraph of the Brown corpus: the words should be lower-cased and lemmatized before they are added to the set (keep it around, because you will need this list again later on). Then, using the information in this corpus, calculate document frequencies and remove from your test set any word pairs where at least one of the two words has a document frequency of less than 10 in this corpus. \n",
    "\n",
    "The second filtering is based on words with highly ambiguous senses and involves using the NLTK interface to WordNet. Here, you should remove any words which do not have a *single primary sense*. We define single primary sense here as either having only one sense (i.e. only one synset), or where the count (as provided by the WordNet `count()` method for the lemmas associated with a synset) of the most common sense is at least five and at least five times larger than the next most common sense. Also, you should remove any words where the primary sense is not a noun (this information is also in the synset). Store the synset corresponding to this primary sense in a dictionary for use in the next section. Given this definition, remove any word pairs from the test set where at least one of the words does not contain a single primary sense or if the single primary sense is not a noun.\n",
    "\n",
    "When you have applied these two filtering steps, print out all the pairs in your filtered test set (if you have done this correctly, the total should be more than 10, but less than 50).\n",
    "\n",
    "(1.5 marks)"
   ]
  },
  {
   "cell_type": "code",
   "execution_count": 7,
   "metadata": {},
   "outputs": [
    {
     "name": "stdout",
     "output_type": "stream",
     "text": [
      "[nltk_data] Downloading package wordnet to /Users/Rena/nltk_data...\n",
      "[nltk_data]   Package wordnet is already up-to-date!\n",
      "[nltk_data] Downloading package brown to /Users/Rena/nltk_data...\n",
      "[nltk_data]   Package brown is already up-to-date!\n",
      "[nltk_data] Downloading package wordnet to /Users/Rena/nltk_data...\n",
      "[nltk_data]   Package wordnet is already up-to-date!\n",
      "[('planet', 'moon'), ('school', 'center'), ('doctor', 'personnel'), ('type', 'kind'), ('planet', 'people'), ('coast', 'forest'), ('car', 'automobile'), ('coast', 'hill'), ('coast', 'shore'), ('baby', 'mother'), ('century', 'year'), ('stock', 'egg'), ('professor', 'doctor')]\n"
     ]
    }
   ],
   "source": [
    "import nltk\n",
    "\n",
    "nltk.download('wordnet')\n",
    "lemmatizer = nltk.stem.wordnet.WordNetLemmatizer()\n",
    "def lemmatize(word):\n",
    "    ###return the lemma form of input token###\n",
    "    ###first lemmatize as verb###\n",
    "    ###if does not change, lemmatize as noun#\n",
    "    lemma = lemmatizer.lemmatize(word,'v')\n",
    "    if lemma == word:\n",
    "        lemma = lemmatizer.lemmatize(word,'n')\n",
    "    return lemma\n",
    "\n",
    "sim353_dict = {}\n",
    "sim353_read = open(\"combined.tab\").readlines()\n",
    "sim353_read.pop(0)\n",
    "\n",
    "for line in sim353_read:\n",
    "    ele = line.split()\n",
    "    if len(ele) == 3:\n",
    "        word1 = lemmatize(ele[0].lower())\n",
    "        word2 = lemmatize(ele[1].lower())\n",
    "        sim353_dict[(word1, word2)] = float(ele[2])\n",
    "\n",
    "\n",
    "brownset = []\n",
    "nltk.download('brown')\n",
    "from nltk.corpus import brown\n",
    "for paragraph in brown.paras():\n",
    "    para = paragraph[0]\n",
    "    processed = []\n",
    "    for word in para:\n",
    "        word = lemmatize(word.lower())\n",
    "        processed.append(word)\n",
    "    brownset.append(set(processed))\n",
    "\n",
    "def item_freq((word1, word2), min = 10, doc = brownset):\n",
    "    ###count document frequency of a word pair\n",
    "    counter1 = 0\n",
    "    counter2 = 0\n",
    "    for item in doc:\n",
    "        if counter1 >= min and counter2 >= min:\n",
    "            return True\n",
    "        else:\n",
    "            if counter1 < min:\n",
    "                if word1 in item:\n",
    "                    counter1 += 1\n",
    "            if counter2 < min:\n",
    "                if word2 in item:\n",
    "                    counter2 += 1\n",
    "    return False\n",
    "\n",
    "\n",
    "###remove less frequent word pairs\n",
    "for word_pair in sim353_dict.keys():\n",
    "    if not item_freq(word_pair):\n",
    "        del sim353_dict[word_pair]\n",
    "\n",
    "\n",
    "\n",
    "nltk.download('wordnet')\n",
    "from nltk.corpus import wordnet as wn\n",
    "def get_primary(word):\n",
    "    word_synset = wn.synsets(word)\n",
    "\n",
    "    if len(word_synset) == 1 and word_synset[0].pos() == 'n':\n",
    "        return word_synset[0]\n",
    "    if len(word_synset) > 1:\n",
    "        syn_count = {}\n",
    "        for syn in word_synset:\n",
    "            lemmas = syn.lemmas()\n",
    "            for lem in lemmas:\n",
    "                lem_name = lem.name().lower()\n",
    "                if word == lem_name:\n",
    "                    syn_count[syn] = lem.count()\n",
    "                    break\n",
    "        count_list = syn_count.values()\n",
    "        count_list.sort(reverse=True)\n",
    "        if count_list[0] >= 5 and count_list[0] >= 5*count_list[1]:\n",
    "            for syn in syn_count.keys():\n",
    "                if count_list[0] == syn_count[syn] and syn.pos() == 'n':\n",
    "                    return syn\n",
    "    return None\n",
    "\n",
    "###filter out word without primary meaning\n",
    "word_synsets = {}\n",
    "for word_pair in sim353_dict.keys():\n",
    "    (word1, word2) = word_pair\n",
    "    synset1 = get_primary(word1)\n",
    "    synset2 = get_primary(word2)\n",
    "    if synset1 and synset2:\n",
    "        word_synsets[word1] = synset1\n",
    "        word_synsets[word2] = synset2\n",
    "    else:\n",
    "        del sim353_dict[word_pair]\n",
    "#print len(sim353_dict.keys())\n",
    "print sim353_dict.keys()"
   ]
  },
  {
   "cell_type": "markdown",
   "metadata": {},
   "source": [
    "<b>Instructions</b>: Now you will create several dictionaries with similarity scores for pairs of words in your test set derived using the techniques discussed in class. The first of these is the Wu-Palmer scores derived from the hypernym relationships in WordNet, which you should calculate using the primary sense for each word derived above. You can use the built-in method included in the NLTK interface, you don't have to implement your own. When you're done,  print out the Python dictionary of word pair/similarity mappings. \n",
    "\n",
    "(0.5 marks)"
   ]
  },
  {
   "cell_type": "code",
   "execution_count": 8,
   "metadata": {},
   "outputs": [
    {
     "name": "stdout",
     "output_type": "stream",
     "text": [
      "wup_sim {('stock', 'egg'): 0.11764705882352941, ('coast', 'hill'): 0.6666666666666666, ('coast', 'shore'): 0.9090909090909091, ('baby', 'mother'): 0.5, ('professor', 'doctor'): 0.5, ('coast', 'forest'): 0.16666666666666666, ('car', 'automobile'): 1.0, ('type', 'kind'): 0.9473684210526315, ('planet', 'moon'): 0.8, ('school', 'center'): 0.13333333333333333, ('century', 'year'): 0.8333333333333334, ('planet', 'people'): 0.18181818181818182, ('doctor', 'personnel'): 0.13333333333333333}\n"
     ]
    }
   ],
   "source": [
    "wup_sim = {}\n",
    "for (word1, word2) in sim353_dict.keys():\n",
    "    synset1 = word_synsets[word1]\n",
    "    synset2 = word_synsets[word2]\n",
    "    wup_sim[(word1, word2)] = synset1.wup_similarity(synset2)\n",
    "print \"wup_sim\", wup_sim"
   ]
  },
  {
   "cell_type": "markdown",
   "metadata": {},
   "source": [
    "**Instructions:** Next, you will calculate Positive PMI (PPMI) for your word pairs using statistics derived from the Brown: you should use the same set up as you did to calculate document frequency above: paragraphs as documents, lemmatized, lower-cased, and with term frequency information removed by conversion to Python sets. You need to use the basic method for calculating PPMI introduced in class (and also in the reading) which is appropriate for any possible definition of co-occurrence (here, appearing in the same paragraph), but you should only calculate PPMI for the words in your test set. You must avoid building the entire co-occurrence matrix, instead you should keeping track of the sums you need for the probabilities as you go along. When you have calculated PMI for all the pairs, your code should print out the Python dictionary of word-pair/PPMI-similarity mappings.\n",
    "\n",
    "(1 mark)"
   ]
  },
  {
   "cell_type": "code",
   "execution_count": 9,
   "metadata": {},
   "outputs": [
    {
     "name": "stdout",
     "output_type": "stream",
     "text": [
      "ppmi_sim {('stock', 'egg'): 0, ('coast', 'hill'): 0, ('coast', 'shore'): 0, ('baby', 'mother'): 5.013267061873542, ('professor', 'doctor'): 0, ('coast', 'forest'): 0, ('car', 'automobile'): 5.204509873937463, ('type', 'kind'): 3.6466273126888558, ('planet', 'moon'): 8.209020469320889, ('school', 'center'): 3.7221915104633445, ('century', 'year'): 3.041890306381168, ('planet', 'people'): 0, ('doctor', 'personnel'): 5.642698428047379}\n"
     ]
    }
   ],
   "source": [
    "import math\n",
    "\n",
    "def get_PMI((word1, word2), docset):\n",
    "    word1_count = 0\n",
    "    word2_count = 0\n",
    "    both_count = 0\n",
    "    total_doc = 0.0\n",
    "    for para in docset:\n",
    "        total_doc += len(para)\n",
    "        if word1 in para:\n",
    "            word1_count += 1\n",
    "            if word2 in para:\n",
    "                word2_count += 1\n",
    "                both_count += 1\n",
    "        elif word2 in para:\n",
    "            word2_count += 1\n",
    "        else:\n",
    "            continue\n",
    "    if both_count <= 0:\n",
    "        return 0\n",
    "    else:\n",
    "        result = math.log((both_count/total_doc)/((word1_count/total_doc)*(word2_count/total_doc)))\n",
    "    return max(result, 0)\n",
    "\n",
    "ppmi_dict = {}\n",
    "for word_pair in sim353_dict.keys():\n",
    "    ppmi_dict[word_pair] = get_PMI(word_pair, brownset)\n",
    "\n",
    "print \"ppmi_sim\", ppmi_dict"
   ]
  },
  {
   "cell_type": "markdown",
   "metadata": {},
   "source": [
    "**Instructions:** Next, you will derive similarity scores using the LSA method, i.e. apply SVD and truncate to get a dense vector and then use cosine similarity between the two vectors for each word pair. You can use the Distributed Semantics notebook as a starting point, but note that since you are interested here in word semantics, you will be constructing a matrix where the (non-sparse) rows correspond to words in the vocabulary, and the (sparse) columns correspond to the texts where they appear (this is the opposite of the notebook). Again, use the Brown corpus, in the same format as with PMI and document frequency. After you have a matrix in the correct format, use truncatedSVD in Sci-kit learn to produce dense vectors of length 500, and then use cosine similarity to produce similarities for your word pairs. Print out the corresponding Python dictionary.\n",
    "\n",
    "(1 mark)"
   ]
  },
  {
   "cell_type": "code",
   "execution_count": 10,
   "metadata": {},
   "outputs": [
    {
     "name": "stdout",
     "output_type": "stream",
     "text": [
      "cos_sim {('stock', 'egg'): 4.803015624110785e-16, ('coast', 'hill'): -6.305719835175694e-16, ('coast', 'shore'): 3.95516952522712e-16, ('baby', 'mother'): 0.023414645289544123, ('professor', 'doctor'): 2.1684043449710089e-16, ('coast', 'forest'): -2.1267709815475655e-15, ('car', 'automobile'): 0.036435977886793834, ('type', 'kind'): 0.011822941265747094, ('planet', 'moon'): 0.20044593143431907, ('school', 'center'): 0.021266436150248293, ('century', 'year'): 0.015134538658618801, ('planet', 'people'): -3.625572064791527e-16, ('doctor', 'personnel'): 0.03207501495497848}\n"
     ]
    }
   ],
   "source": [
    "def get_word_matrix(docset, target_word, word_list):\n",
    "    ###matrix row: target words from word pair + vocabulary\n",
    "    ###matrix column: if word appear in doc\n",
    "    ###word_lookup: keep track of the index for the target words\n",
    "    word_freq_matrix = []\n",
    "    word_lookup = {}\n",
    "    lookup_counter = 0\n",
    "    for word in target_word:\n",
    "    \tword_freq = get_word_freq(word, docset)\n",
    "        word_freq_matrix.append(word_freq)\n",
    "        word_lookup[word] = lookup_counter\n",
    "        lookup_counter += 1\n",
    "    for word in word_list:\n",
    "    \tword_freq = get_word_freq(word, docset)\n",
    "    \tword_freq_matrix.append(word_freq)\n",
    "    return word_lookup, word_freq_matrix\n",
    "\n",
    "\n",
    "\n",
    "def get_word_freq(word, docset):\n",
    "    ###step through the document###\n",
    "    ###check if word exist in the doc###\n",
    "    ###return dictionary with doc:if_appear###\n",
    "\tword_freq = []\n",
    "\tdic = {}\n",
    "\tcounter = 0\n",
    "\tfor para in docset:\n",
    "\t\tif word in para:\n",
    "\t\t\tdic[counter] = 1\n",
    "\t\telse:\n",
    "\t\t\tdic[counter] = 0\n",
    "\t\tcounter += 1\n",
    "\treturn dic\n",
    "\n",
    "def get_vocabulary(wordset, doc, size = 500):\n",
    "    ###returned vocabulary contains both target words###\n",
    "    ###and the tokens in the doc###\n",
    "\tdoc_voca = []\n",
    "\tcounter = size - len(wordset)\n",
    "\tfor para in doc:\n",
    "\t\tfor token in para:\n",
    "\t\t\tif token not in word and counter > 0:\n",
    "\t\t\t\tdoc_voca.append(token)\n",
    "\t\t\t\tcounter -= 1\n",
    "\treturn doc_voca\n",
    "\n",
    "\n",
    "from sklearn.feature_extraction import DictVectorizer\n",
    "vectorizer = DictVectorizer()\n",
    "\n",
    "target_word = set(i for sub in sim353_dict.keys() for i in sub)\n",
    "vocabulary = get_vocabulary(target_word, brownset)\n",
    "\n",
    "\n",
    "lookup_dict, word_matrix = get_word_matrix(brownset, target_word, vocabulary)\n",
    "word_matrix = vectorizer.fit_transform(word_matrix)\n",
    "\n",
    "from sklearn.decomposition import TruncatedSVD\n",
    "svd = TruncatedSVD(n_components = 500)\n",
    "truncated_matrix = svd.fit_transform(word_matrix)\n",
    "\n",
    "\n",
    "from sklearn.metrics.pairwise import cosine_similarity as cosine\n",
    "cos_sim = {}\n",
    "for word_pair in sim353_dict.keys():\n",
    "    (word1, word2) = word_pair\n",
    "    index1 = lookup_dict[word1]\n",
    "    index2 = lookup_dict[word2]\n",
    "    result = cosine([truncated_matrix[index1]], [truncated_matrix[index2]])\n",
    "    cos_sim[word_pair] = result[0][0]\n",
    "print \"cos_sim\", cos_sim"
   ]
  },
  {
   "cell_type": "markdown",
   "metadata": {},
   "source": [
    "**Instructions:** Next, you will derive a similarity score from word2vec vectors, using the Gensim interface. Check the Gensim word2vec tutorial for details on the API: https://radimrehurek.com/gensim/models/word2vec.html. Again, you should use the Brown for this, but for word2vec you don't need to worry about paragraphs: feel free to train your model at the sentence level instead. Your vectors should have the same number of dimensions as LSA (500), and you need to run for 50 iterations. This may take a while (several minutes), but that's okay, you won't be marked based on the speed of this. You should extract the similarites you need directly from the Gensim model, put them in a Python dictionary, and print them out.\n",
    "\n",
    "(0.5 mark)"
   ]
  },
  {
   "cell_type": "code",
   "execution_count": 13,
   "metadata": {},
   "outputs": [
    {
     "name": "stdout",
     "output_type": "stream",
     "text": [
      "w2v_sim {('stock', 'egg'): 0.16338709293335052, ('coast', 'hill'): 0.43194400335338307, ('coast', 'shore'): 0.44624137855437973, ('baby', 'mother'): 0.22203210978283336, ('professor', 'doctor'): 0.09946103281283186, ('coast', 'forest'): 0.2914740875661272, ('car', 'automobile'): 0.16285589338322337, ('type', 'kind'): 0.2585200376374964, ('planet', 'moon'): 0.1572712298477399, ('school', 'center'): -0.02426203873186266, ('century', 'year'): 0.3075953016108216, ('planet', 'people'): -0.0033652778316725293, ('doctor', 'personnel'): -0.04937328483102168}\n"
     ]
    }
   ],
   "source": [
    "brown_sent = brown.sents()\n",
    "from gensim.models import Word2Vec\n",
    "w2v_model = Word2Vec(brown_sent, size = 500, iter = 50)\n",
    "\n",
    "w2v_sim = {}\n",
    "for word_pair in sim353_dict.keys():\n",
    "    (word1, word2) = word_pair\n",
    "    w2v_sim[word_pair] = w2v_model.wv.similarity(word1, word2)\n",
    "print \"w2v_sim\", w2v_sim"
   ]
  },
  {
   "cell_type": "markdown",
   "metadata": {},
   "source": [
    "\n",
    "**Instructions:** Finally, you should compare all the similarities you've created to the gold standard you loaded and filtered in the first step. For this, you can use the Pearson correlation co-efficient (`pearsonr`), which is included in scipy (`scipy.stats`). Be careful converting your dictionaries to lists for this purpose, the data for the two datasets needs to be in the same order for correct comparison using correlation. Write a general function, then apply it to each of the similarity score dictionaries, and print out the result for each (be sure to label them!). Hint: All of the methods used here should be markedly above 0, but also far from 1 (perfect correlation); if you're not getting reasonable results, go back and check your code for bugs!  \n",
    "\n",
    "(0.5 mark)\n"
   ]
  },
  {
   "cell_type": "code",
   "execution_count": 14,
   "metadata": {},
   "outputs": [
    {
     "name": "stdout",
     "output_type": "stream",
     "text": [
      "sim353 - wup 0.8519061523656611\n",
      "sim353 - ppmi 0.41738004480472835\n",
      "sim353 - cos_sim 0.2937942293184316\n",
      "sim353 - w2v_sim 0.2768353363076464\n"
     ]
    }
   ],
   "source": [
    "from scipy.stats import pearsonr\n",
    "\n",
    "def get_pearsonr(sim1, sim2 = sim353_dict):\n",
    "    sim1_list = []\n",
    "    sim2_list = []\n",
    "    for word_pair in sim2.keys():\n",
    "        sim1_list.append(sim1[word_pair])\n",
    "        sim2_list.append(sim2[word_pair])\n",
    "    (co_eff, p_val) = pearsonr(sim1_list, sim2_list)\n",
    "    return co_eff\n",
    "\n",
    "print \"sim353 - wup\", get_pearsonr(wup_sim)\n",
    "print \"sim353 - ppmi\", get_pearsonr(ppmi_dict)\n",
    "print \"sim353 - cos_sim\", get_pearsonr(cos_sim)\n",
    "print \"sim353 - w2v_sim\", get_pearsonr(w2v_sim)"
   ]
  },
  {
   "cell_type": "markdown",
   "metadata": {},
   "source": [
    "## Bonus: Improving the correlation"
   ]
  },
  {
   "cell_type": "markdown",
   "metadata": {},
   "source": [
    "**Instructions:** To get the extra credit, you should try to get a noticeably (at least 0.05) higher correlation than that of the highest correlation that you found in the main assignment. To accomplish this, you can use any resources included or accessible via NLTK EXCEPT the Google word2vec vectors. Half of your mark here will be based on the thought and effort involved in your solution (if you tried something sensible that didn't work, show us), the other half will be based on the actual performance increase, which you should demonstrate. For full credit, be sure to explain exactly what you are doing.\n",
    "\n",
    "(1 bonus mark) "
   ]
  },
  {
   "cell_type": "code",
   "execution_count": null,
   "metadata": {},
   "outputs": [],
   "source": [
    "###two methods are tried to improve the performance\n",
    "###and the main focus is to preprocess the corpus\n",
    "###1st: to remove the stop words and punctuation before feeding the brownset to the estimator\n",
    "###Result: the pearsonr decreases for PPMI\n",
    "\n",
    "###2nd: to use word sense match instead of exact character match\n",
    "###Trial1: simply trying to match the character in the lemmas from the word sense\n",
    "###Result: the pearsonr decreases for PPMI\n",
    "###Observation: cases like \"shore\", \"coast\", \"coast\" has lemma such as \"seashore\", but exact match will filter it out\n",
    "###Trial2: use Regex to search in the lemma\n",
    "###Result: sim353 - new_ppmi_sim 0.508531355227 comparing to previous 0.417380044805"
   ]
  },
  {
   "cell_type": "code",
   "execution_count": 15,
   "metadata": {},
   "outputs": [
    {
     "name": "stdout",
     "output_type": "stream",
     "text": [
      "[nltk_data] Downloading package stopwords to /Users/Rena/nltk_data...\n",
      "[nltk_data]   Package stopwords is already up-to-date!\n",
      "ppmi_sim {('stock', 'egg'): 0, ('coast', 'hill'): 0, ('coast', 'shore'): 0, ('baby', 'mother'): 4.327387780145035, ('professor', 'doctor'): 0, ('coast', 'forest'): 0, ('car', 'automobile'): 4.518630592208955, ('type', 'kind'): 2.960748030960348, ('planet', 'moon'): 7.523141187592381, ('school', 'center'): 3.0363122287348374, ('century', 'year'): 2.356011024652661, ('planet', 'people'): 0, ('doctor', 'personnel'): 4.956819146318872}\n",
      "sim353 - new_ppmi_sim 0.41068871041585087\n",
      "ppmi_sim {('stock', 'egg'): 2.9024021916790503, ('coast', 'hill'): 0, ('coast', 'shore'): 6.613135523291492, ('baby', 'mother'): 3.629080682549932, ('professor', 'doctor'): 3.304738246795211, ('coast', 'forest'): 3.610659125262128, ('car', 'automobile'): 3.977533944486599, ('type', 'kind'): 3.249348140357088, ('planet', 'moon'): 3.647866148341929, ('school', 'center'): 3.0870579399111207, ('century', 'year'): 3.7839393110339445, ('planet', 'people'): 3.5937989270716533, ('doctor', 'personnel'): 2.8863139940445413}\n",
      "sim353 - new_ppmi_sim 0.5085313552265806\n"
     ]
    }
   ],
   "source": [
    "###1st Method\n",
    "nltk.download('stopwords')\n",
    "from nltk.corpus import stopwords\n",
    "\n",
    "stopwords = set(stopwords.words('english'))\n",
    "\n",
    "def process_brown(docset, word_filter):\n",
    "    new_brown = []\n",
    "    for para in brownset:\n",
    "        new_para = []\n",
    "        for token in para:\n",
    "            if token.isalpha() and token not in word_filter:\n",
    "                new_para.append(token)\n",
    "        new_brown.append(new_para)\n",
    "    return new_brown\n",
    "\n",
    "processed_brown = process_brown(brownset, stopwords)\n",
    "\n",
    "new_ppmi_dict = {}\n",
    "for word_pair in sim353_dict.keys():\n",
    "    new_ppmi_dict[word_pair] = get_PMI(word_pair, processed_brown)\n",
    "\n",
    "print \"ppmi_sim\", new_ppmi_dict\n",
    "print \"sim353 - new_ppmi_sim\", get_pearsonr(new_ppmi_dict)\n",
    "\n",
    "\n",
    "\n",
    "###2nd Method\n",
    "def get_para_lemma(paragraph):\n",
    "    para_lem = []\n",
    "    for token in paragraph:\n",
    "        lem = [lemma.name().lower() for syn in wn.synsets(token) for lemma in syn.lemmas()]\n",
    "        for l in lem:\n",
    "            para_lem.append(l)\n",
    "    return para_lem\n",
    "\n",
    "import re\n",
    "def find_word(word, word_list):\n",
    "    pattern = re.compile(word)\n",
    "    for w in word_list:\n",
    "        if pattern.search(w):\n",
    "            return True\n",
    "    return False\n",
    "\n",
    "\n",
    "def get_PMI_new((word1, word2), docset):\n",
    "    word1_count = 0\n",
    "    word2_count = 0\n",
    "    both_count = 0\n",
    "    total_doc = 0.0\n",
    "\n",
    "    for para in docset:\n",
    "        total_doc += len(para)\n",
    "        para_lemma = get_para_lemma(para)\n",
    "        if find_word(word1, para_lemma):\n",
    "            word1_count += 1\n",
    "            if find_word(word2, para_lemma):\n",
    "                word2_count += 1\n",
    "                both_count += 1\n",
    "        elif find_word(word2, para_lemma):\n",
    "            word2_count += 1\n",
    "        else:\n",
    "            continue\n",
    "    #total_doc = float(len(brownset))\n",
    "    if both_count <= 0:\n",
    "        return 0\n",
    "    else:\n",
    "        result = math.log((both_count/total_doc)/((word1_count/total_doc)*(word2_count/total_doc)))\n",
    "    #print word1_count, word2_count, both_count, total_doc\n",
    "    return max(result, 0)\n",
    "\n",
    "\n",
    "\n",
    "ppmi_dict = {}\n",
    "for word_pair in sim353_dict.keys():\n",
    "    ppmi_dict[word_pair] = get_PMI_new(word_pair, brownset)\n",
    "\n",
    "print \"ppmi_sim\", ppmi_dict\n",
    "print \"sim353 - new_ppmi_sim\", get_pearsonr(ppmi_dict)"
   ]
  },
  {
   "cell_type": "markdown",
   "metadata": {},
   "source": [
    "## A final word\n",
    "\n",
    "Normally, we would not use a corpus as small as the Brown for the purposes of building distributional word vectors. Also, note that filtering our test set to just words we are likely to do well on would typically be considered cheating."
   ]
  }
 ],
 "metadata": {
  "anaconda-cloud": {},
  "kernelspec": {
   "display_name": "Python 2",
   "language": "python",
   "name": "python2"
  },
  "language_info": {
   "codemirror_mode": {
    "name": "ipython",
    "version": 2
   },
   "file_extension": ".py",
   "mimetype": "text/x-python",
   "name": "python",
   "nbconvert_exporter": "python",
   "pygments_lexer": "ipython2",
   "version": "2.7.10"
  }
 },
 "nbformat": 4,
 "nbformat_minor": 1
}
